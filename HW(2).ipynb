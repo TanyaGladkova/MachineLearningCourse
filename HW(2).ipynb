{
 "cells": [
  {
   "cell_type": "code",
   "execution_count": 85,
   "metadata": {
    "collapsed": true
   },
   "outputs": [],
   "source": [
    "import numpy as np\n",
    "import matplotlib.pyplot as plt\n",
    "import pandas as pd\n",
    "%matplotlib inline"
   ]
  },
  {
   "cell_type": "code",
   "execution_count": 86,
   "metadata": {
    "collapsed": false
   },
   "outputs": [],
   "source": [
    "url = 'C:\\\\Anaconda\\\\aaa\\\\echocardiogram.data'\n",
    "data = pd.read_csv(url, sep = ',', na_values = '?', engine = 'python')"
   ]
  },
  {
   "cell_type": "code",
   "execution_count": 87,
   "metadata": {
    "collapsed": false
   },
   "outputs": [],
   "source": [
    "data = data.fillna(data.median(axis = 0), axis = 0)\n",
    "data.columns = ['C' + str(i) for i in range(1, 14)]"
   ]
  },
  {
   "cell_type": "code",
   "execution_count": 88,
   "metadata": {
    "collapsed": false
   },
   "outputs": [
    {
     "data": {
      "text/plain": [
       "Index(['C1', 'C2', 'C3', 'C4', 'C5', 'C6', 'C7', 'C8', 'C9', 'C10', 'C11',\n",
       "       'C12', 'C13'],\n",
       "      dtype='object')"
      ]
     },
     "execution_count": 88,
     "metadata": {},
     "output_type": "execute_result"
    }
   ],
   "source": [
    "data.keys()"
   ]
  },
  {
   "cell_type": "markdown",
   "metadata": {},
   "source": [
    "Отбрасываем ненужный столбец с именами.\n",
    "Х - входные данные, Y  - данные классификации."
   ]
  },
  {
   "cell_type": "code",
   "execution_count": 89,
   "metadata": {
    "collapsed": false
   },
   "outputs": [
    {
     "name": "stdout",
     "output_type": "stream",
     "text": [
      "(131, 12)\n",
      "(131,)\n"
     ]
    }
   ],
   "source": [
    "X = data.drop(('C13'), axis = 1) \n",
    "X = data.drop(('C11'), axis = 1)\n",
    "y = data['C13']\n",
    "print(X.shape)\n",
    "print(y.shape)"
   ]
  },
  {
   "cell_type": "markdown",
   "metadata": {},
   "source": [
    "Разделяем данные на обучающую и тестовую выборки. Соотношением 70 на 30."
   ]
  },
  {
   "cell_type": "code",
   "execution_count": 90,
   "metadata": {
    "collapsed": true
   },
   "outputs": [],
   "source": [
    "from sklearn.model_selection import train_test_split\n",
    "X_train, X_test, y_train, y_test = train_test_split(X, y, test_size = 0.5, random_state = 7)\n",
    "N_test, _ = X_test.shape"
   ]
  },
  {
   "cell_type": "code",
   "execution_count": 91,
   "metadata": {
    "collapsed": false
   },
   "outputs": [
    {
     "name": "stdout",
     "output_type": "stream",
     "text": [
      "(65, 12)\n",
      "(66, 12)\n",
      "(65,)\n",
      "(66,)\n"
     ]
    }
   ],
   "source": [
    "print(X_train.shape)\n",
    "print(X_test.shape)\n",
    "print(y_train.shape)\n",
    "print(y_test.shape)"
   ]
  },
  {
   "cell_type": "code",
   "execution_count": 92,
   "metadata": {
    "collapsed": false
   },
   "outputs": [
    {
     "name": "stdout",
     "output_type": "stream",
     "text": [
      "        C1   C2      C3   C4     C5      C6     C7     C8     C9    C10  C12  \\\n",
      "91   53.00  0.0  59.000  0.0  0.344   9.100  4.040   9.00  1.000  0.643  2.0   \n",
      "27    0.25  1.0  75.000  0.0  0.200  11.000  4.665  14.00  1.000  0.786  2.0   \n",
      "107   0.75  1.0  78.000  0.0  0.230  40.000  6.230  14.00  1.400  0.714  2.0   \n",
      "88   15.00  1.0  60.000  0.0  0.180   8.700  4.560  13.50  1.040  0.928  2.0   \n",
      "76    0.03  1.0  62.000  0.0  0.260  19.400  4.770  21.00  2.100  0.714  2.0   \n",
      "21    0.50  1.0  73.000  0.0  0.230  12.733  6.060   7.50  1.500  0.360  1.0   \n",
      "93   24.00  1.0  61.000  0.0  0.200   9.400  4.020  15.67  1.420  0.786  2.0   \n",
      "113  27.00  0.0  57.000  0.0  0.290   9.400  4.770   9.00  1.000  0.640  2.0   \n",
      "98    4.00  1.0  58.000  0.0  0.170  28.900  6.730  26.08  2.010  0.928  2.0   \n",
      "86   21.00  1.0  70.000  1.0  0.160  19.200  5.250  11.00  1.000  0.786  2.0   \n",
      "35   16.00  0.0  63.000  1.0  0.200  11.000  5.310   5.00  1.000  0.357  2.0   \n",
      "10   52.00  0.0  62.000  1.0  0.450   9.000  3.600  16.00  1.140  1.003  1.0   \n",
      "124  17.00  0.0  62.000  0.0  0.090   6.800  4.960  13.00  1.080  0.857  2.0   \n",
      "71   29.00  0.0  60.000  0.0  0.120  10.200  4.310  15.00  1.670  0.640  2.0   \n",
      "105  25.00  0.0  57.000  0.0  0.228   9.700  4.290  11.00  1.000  0.786  2.0   \n",
      "31    3.00  1.0  62.000  0.0  0.200  12.000  4.665   6.00  3.000  0.140  2.0   \n",
      "16    0.50  1.0  62.529  1.0  0.070  20.000  5.200  24.00  2.000  0.857  1.0   \n",
      "97    5.00  1.0  65.000  1.0  0.160   8.500  5.470  16.00  1.450  0.786  2.0   \n",
      "1    16.00  0.0  55.000  0.0  0.260   4.000  3.420  14.00  1.000  1.000  1.0   \n",
      "114  34.00  0.0  62.000  1.0  0.190  28.900  6.630  19.50  1.950  0.714  2.0   \n",
      "83    0.75  1.0  61.000  0.0  0.200  11.000  4.665  28.00  2.330  0.857  2.0   \n",
      "123  36.00  0.0  48.000  0.0  0.150  12.000  3.660  10.00  1.000  0.714  2.0   \n",
      "129  22.00  0.0  57.000  0.0  0.140  16.100  4.360  15.00  1.360  0.786  2.0   \n",
      "87   55.00  0.0  55.000  0.0  0.280   5.500  4.480  22.00  1.830  0.857  2.0   \n",
      "9    10.00  1.0  77.000  0.0  0.130  16.000  4.230  18.00  1.800  0.714  1.0   \n",
      "4    26.00  0.0  68.000  0.0  0.260   5.000  4.310  12.00  1.000  0.857  1.0   \n",
      "38   31.00  0.0  80.000  0.0  0.410   5.400  4.360  14.00  1.000  0.786  2.0   \n",
      "78   32.00  0.0  63.000  0.0  0.200   5.000  5.200   8.00  1.000  0.570  2.0   \n",
      "73   26.00  0.0  50.000  0.0  0.060  30.100  5.950  21.50  2.390  0.643  2.0   \n",
      "116  34.00  0.0  54.000  0.0  0.430   9.300  4.790  10.00  1.000  0.714  2.0   \n",
      "..     ...  ...     ...  ...    ...     ...    ...    ...    ...    ...  ...   \n",
      "24   29.00  0.0  54.000  0.0  0.300   7.000  3.850  10.00  1.667  0.430  2.0   \n",
      "56   22.00  0.0  57.000  0.0  0.130  18.600  4.370  12.33  1.370  0.642  2.0   \n",
      "69    0.25  1.0  86.000  0.0  0.225  12.200  5.200  24.00  2.180  0.786  2.0   \n",
      "63   12.00  0.0  67.000  1.0  0.110  10.300  4.680  11.00  1.000  0.785  2.0   \n",
      "112  25.00  0.0  59.000  1.0  0.400   9.200  5.360  12.00  1.000  0.857  2.0   \n",
      "60    9.00  0.0  73.000  0.0  0.120  11.000  6.780  16.67  1.390  0.857  2.0   \n",
      "19    0.75  1.0  69.000  0.0  0.150  12.000  5.390  19.50  1.625  0.857  1.0   \n",
      "6    50.00  0.0  60.000  0.0  0.330   8.000  5.250  14.00  1.000  1.000  1.0   \n",
      "55   45.00  0.0  63.000  0.0  0.150  13.000  4.570  13.00  1.080  0.857  2.0   \n",
      "75    0.25  1.0  68.000  0.0  0.220  21.700  4.850  15.00  1.150  0.928  2.0   \n",
      "0    19.00  0.0  72.000  0.0  0.380   6.000  4.100  14.00  1.700  0.588  1.0   \n",
      "44   37.00  0.0  64.000  0.0  0.090  11.000  4.665  12.00  2.000  0.428  2.0   \n",
      "7    19.00  0.0  46.000  0.0  0.340   0.000  5.090  16.00  1.140  1.003  1.0   \n",
      "48   24.00  0.0  77.000  0.0  0.200  11.000  4.665  14.00  2.000  0.786  2.0   \n",
      "68   41.00  0.0  78.000  0.0  0.060  16.100  5.620  13.67  1.367  0.714  2.0   \n",
      "102  25.00  0.0  62.000  0.0  0.258  11.800  4.870  11.00  1.000  0.786  2.0   \n",
      "39   32.00  0.0  54.000  0.0  0.350   9.300  3.630  11.00  1.222  0.640  2.0   \n",
      "8    25.00  0.0  54.000  0.0  0.140  13.000  4.490  15.50  1.190  0.930  1.0   \n",
      "90   35.00  0.0  64.000  0.0  0.300   6.600  4.360  14.00  1.270  0.786  2.0   \n",
      "42   46.00  0.0  56.000  0.0  0.330  11.000  3.590  14.00  1.000  1.000  2.0   \n",
      "110  13.00  0.0  66.000  0.0  0.240  13.600  4.380  22.00  2.200  0.714  2.0   \n",
      "89    0.50  1.0  67.000  0.0  0.155  11.300  5.160  13.00  1.000  0.928  2.0   \n",
      "72   41.00  0.0  59.000  0.0  0.290   7.500  4.750  13.00  1.080  0.857  2.0   \n",
      "23   48.00  0.0  64.000  0.0  0.190   5.900  3.480  10.00  1.110  0.640  2.0   \n",
      "14   24.00  0.0  55.000  1.0  0.250  12.063  4.290  14.00  1.000  1.000  1.0   \n",
      "57   53.00  0.0  70.000  0.0  0.100   9.800  5.300  23.00  2.300  0.714  2.0   \n",
      "92   33.00  0.0  46.000  0.0  0.272  16.500  5.360  12.67  1.060  0.857  2.0   \n",
      "103   1.25  1.0  63.000  0.0  0.300   6.900  3.520  18.16  1.510  0.857  2.0   \n",
      "67   47.00  0.0  65.000  0.0  0.360   8.800  5.780  12.00  1.000  0.857  2.0   \n",
      "25   29.00  0.0  35.000  0.0  0.300   5.000  4.170  14.00  1.000  1.000  2.0   \n",
      "\n",
      "     C13  \n",
      "91   0.0  \n",
      "27   0.0  \n",
      "107  1.0  \n",
      "88   0.0  \n",
      "76   1.0  \n",
      "21   1.0  \n",
      "93   1.0  \n",
      "113  0.0  \n",
      "98   1.0  \n",
      "86   0.0  \n",
      "35   0.0  \n",
      "10   0.0  \n",
      "124  0.0  \n",
      "71   0.0  \n",
      "105  0.0  \n",
      "31   0.0  \n",
      "16   1.0  \n",
      "97   1.0  \n",
      "1    0.0  \n",
      "114  0.0  \n",
      "83   1.0  \n",
      "123  0.0  \n",
      "129  0.0  \n",
      "87   0.0  \n",
      "9    1.0  \n",
      "4    0.0  \n",
      "38   0.0  \n",
      "78   0.0  \n",
      "73   0.0  \n",
      "116  0.0  \n",
      "..   ...  \n",
      "24   0.0  \n",
      "56   0.0  \n",
      "69   1.0  \n",
      "63   0.0  \n",
      "112  0.0  \n",
      "60   0.0  \n",
      "19   1.0  \n",
      "6    0.0  \n",
      "55   0.0  \n",
      "75   0.0  \n",
      "0    0.0  \n",
      "44   0.0  \n",
      "7    0.0  \n",
      "48   0.0  \n",
      "68   0.0  \n",
      "102  0.0  \n",
      "39   0.0  \n",
      "8    0.0  \n",
      "90   0.0  \n",
      "42   0.0  \n",
      "110  0.0  \n",
      "89   0.0  \n",
      "72   0.0  \n",
      "23   0.0  \n",
      "14   0.0  \n",
      "57   0.0  \n",
      "92   0.0  \n",
      "103  1.0  \n",
      "67   0.0  \n",
      "25   0.0  \n",
      "\n",
      "[65 rows x 12 columns]\n",
      "        C1   C2    C3   C4     C5      C6     C7     C8     C9    C10  C12  \\\n",
      "84   34.00  0.0  52.0  0.0  0.140  25.000  6.210  11.50  1.150  0.714  2.0   \n",
      "117  28.00  1.0  62.0  1.0  0.240  28.600  5.860  21.50  1.950  0.786  2.0   \n",
      "101  22.00  0.0  70.0  0.0  0.380   0.000  4.550  10.00  1.000  0.714  2.0   \n",
      "28   36.00  0.0  55.0  1.0  0.210   4.200  4.160  14.00  1.560  0.640  2.0   \n",
      "62    0.50  1.0  59.0  0.0  0.130  16.400  4.960  17.83  1.370  0.928  2.0   \n",
      "85    1.00  1.0  73.0  0.0  0.050  14.800  4.140  15.50  1.410  0.786  2.0   \n",
      "54   10.00  0.0  66.0  0.0  0.290  15.600  6.150  14.00  1.000  1.000  2.0   \n",
      "100  33.00  0.0  66.0  0.0  0.200  11.000  4.230  12.00  1.000  0.857  2.0   \n",
      "127  41.00  0.0  64.0  0.0  0.280   5.400  5.470  11.00  1.100  0.714  2.0   \n",
      "111  36.00  0.0  61.0  0.0  0.270   9.000  4.060  12.00  1.000  0.857  2.0   \n",
      "49    2.00  1.0  56.0  1.0  0.040  14.000  5.000  14.00  1.226  0.786  2.0   \n",
      "120  38.00  0.0  57.0  1.0  0.120   0.000  2.320  16.50  1.375  0.857  2.0   \n",
      "95   40.00  1.0  74.0  0.0  0.200   4.800  4.560  12.50  1.040  0.857  2.0   \n",
      "36    1.00  1.0  65.0  0.0  0.060  23.600  4.665  21.50  2.150  0.714  2.0   \n",
      "5    13.00  0.0  62.0  0.0  0.230  31.000  5.430  22.50  1.875  0.857  1.0   \n",
      "130  20.00  0.0  62.0  0.0  0.150   0.000  4.510  15.50  1.409  0.786  2.0   \n",
      "77   12.00  0.0  64.0  0.0  0.200   7.100  4.580  14.00  1.000  1.000  2.0   \n",
      "74   15.00  0.0  54.0  0.0  0.217  17.900  4.540  16.50  1.180  1.000  2.0   \n",
      "45   19.50  1.0  81.0  0.0  0.120  11.000  4.665   9.00  1.250  0.570  2.0   \n",
      "121  31.00  0.0  61.0  0.0  0.180   0.000  4.480  11.00  1.375  0.570  2.0   \n",
      "32   27.00  0.0  47.0  0.0  0.400   5.120  3.100  12.00  1.000  0.857  2.0   \n",
      "51   10.00  0.0  57.0  0.0  0.240  14.800  5.260  18.00  1.380  0.812  2.0   \n",
      "108   3.00  1.0  62.0  0.0  0.260   7.600  4.420  14.00  1.000  1.000  2.0   \n",
      "22    5.00  1.0  71.0  0.0  0.170   0.000  4.650   8.00  1.000  0.570  1.0   \n",
      "96   33.00  0.0  59.0  0.0  0.500   9.100  3.420  18.00  1.500  0.857  2.0   \n",
      "106  24.00  0.0  57.0  0.0  0.036   7.000  4.120  13.50  1.230  0.786  2.0   \n",
      "128  36.00  0.0  69.0  0.0  0.200   7.000  5.050  14.50  1.210  0.857  2.0   \n",
      "80   27.00  0.0  54.0  1.0  0.070  16.800  4.160  18.00  1.500  0.857  2.0   \n",
      "40   16.00  0.0  70.0  1.0  0.270   4.700  4.490  22.00  2.000  0.786  2.0   \n",
      "94   33.00  0.0  63.0  0.0  0.250   5.600  3.870  18.00  1.500  0.857  2.0   \n",
      "..     ...  ...   ...  ...    ...     ...    ...    ...    ...    ...  ...   \n",
      "70   33.00  0.0  56.0  0.0  0.250  11.000  4.720  11.00  1.000  0.785  2.0   \n",
      "15    0.50  1.0  69.0  1.0  0.260  11.000  4.650  18.00  1.640  0.784  1.0   \n",
      "20    0.75  1.0  85.0  1.0  0.180  19.000  5.460  13.83  1.380  0.710  1.0   \n",
      "125  21.00  0.0  61.0  0.0  0.140  25.500  5.160  14.00  1.270  0.786  2.0   \n",
      "99   31.00  0.0  53.0  0.0  0.170  11.000  4.690  10.00  1.000  0.710  2.0   \n",
      "46   20.00  1.0  59.0  0.0  0.030  21.300  6.290  17.00  1.310  0.928  2.0   \n",
      "104  24.00  0.0  59.0  0.0  0.170  14.300  5.490  13.50  1.500  0.643  2.0   \n",
      "41   40.00  0.0  79.0  0.0  0.150  17.500  4.270  13.00  1.300  0.714  2.0   \n",
      "43    2.00  1.0  67.0  1.0  0.440   9.000  3.960  17.50  1.450  0.857  2.0   \n",
      "58   38.00  0.0  68.0  0.0  0.290  11.000  4.410  14.00  1.167  0.857  2.0   \n",
      "12   44.00  0.0  60.0  0.0  0.150  10.000  3.730  14.00  1.000  1.000  1.0   \n",
      "82    0.75  1.0  78.0  0.0  0.050  10.000  4.440  15.00  1.360  0.786  2.0   \n",
      "47    0.25  1.0  63.0  1.0  0.200  11.000  4.665  23.00  2.300  0.714  2.0   \n",
      "11   52.00  0.0  73.0  0.0  0.330   6.000  4.000  14.00  1.000  1.000  1.0   \n",
      "3    19.00  1.0  57.0  0.0  0.160  22.000  5.750  18.00  2.250  0.571  1.0   \n",
      "79   32.00  0.0  65.0  0.0  0.060  23.600  6.740  12.00  1.090  0.785  2.0   \n",
      "18    1.00  1.0  66.0  1.0  0.220  15.000  5.400  27.00  2.250  0.857  1.0   \n",
      "50    7.00  1.0  61.0  1.0  0.270  11.000  4.665   9.00  1.500  0.428  2.0   \n",
      "65    0.75  1.0  50.0  0.0  0.140  11.400  4.750  10.00  2.500  0.280  2.0   \n",
      "2    57.00  0.0  60.0  0.0  0.253  12.062  4.603  16.00  1.450  0.788  1.0   \n",
      "81   23.00  0.0  62.0  0.0  0.250   6.000  4.480  11.00  1.000  0.786  2.0   \n",
      "17   22.00  1.0  66.0  0.0  0.090  17.000  5.819   8.00  1.333  0.429  1.0   \n",
      "29    1.00  1.0  65.0  0.0  0.150  11.000  5.050  10.00  1.000  0.710  2.0   \n",
      "119  17.00  0.0  64.0  0.0  0.150   6.600  4.170  14.00  1.270  0.786  2.0   \n",
      "37   19.00  0.0  68.0  0.0  0.510  11.000  3.880  15.00  1.670  0.640  2.0   \n",
      "126   7.50  1.0  64.0  0.0  0.240  12.900  4.720  12.00  1.000  0.857  2.0   \n",
      "30    1.00  1.0  52.0  1.0  0.170  17.200  5.320  14.00  1.170  0.857  2.0   \n",
      "59   26.00  0.0  79.0  0.0  0.170  11.900  5.150  10.50  1.050  0.714  2.0   \n",
      "33   35.00  0.0  63.0  0.0  0.200  10.000  4.665  14.00  1.170  0.857  2.0   \n",
      "115  37.00  0.0  62.0  0.0  0.260   0.000  4.380   9.00  1.000  0.640  2.0   \n",
      "\n",
      "     C13  \n",
      "84   0.0  \n",
      "117  0.0  \n",
      "101  0.0  \n",
      "28   0.0  \n",
      "62   0.0  \n",
      "85   0.0  \n",
      "54   0.0  \n",
      "100  0.0  \n",
      "127  0.0  \n",
      "111  0.0  \n",
      "49   1.0  \n",
      "120  0.0  \n",
      "95   0.0  \n",
      "36   1.0  \n",
      "5    0.0  \n",
      "130  0.0  \n",
      "77   0.0  \n",
      "74   0.0  \n",
      "45   0.0  \n",
      "121  0.0  \n",
      "32   0.0  \n",
      "51   0.0  \n",
      "108  1.0  \n",
      "22   1.0  \n",
      "96   0.0  \n",
      "106  0.0  \n",
      "128  0.0  \n",
      "80   0.0  \n",
      "40   0.0  \n",
      "94   0.0  \n",
      "..   ...  \n",
      "70   0.0  \n",
      "15   1.0  \n",
      "20   1.0  \n",
      "125  0.0  \n",
      "99   0.0  \n",
      "46   0.0  \n",
      "104  0.0  \n",
      "41   0.0  \n",
      "43   0.0  \n",
      "58   0.0  \n",
      "12   0.0  \n",
      "82   1.0  \n",
      "47   1.0  \n",
      "11   0.0  \n",
      "3    0.0  \n",
      "79   0.0  \n",
      "18   1.0  \n",
      "50   1.0  \n",
      "65   0.0  \n",
      "2    0.0  \n",
      "81   0.0  \n",
      "17   0.0  \n",
      "29   0.0  \n",
      "119  0.0  \n",
      "37   0.0  \n",
      "126  0.0  \n",
      "30   0.0  \n",
      "59   0.0  \n",
      "33   0.0  \n",
      "115  0.0  \n",
      "\n",
      "[66 rows x 12 columns]\n",
      "91     0.0\n",
      "27     0.0\n",
      "107    1.0\n",
      "88     0.0\n",
      "76     1.0\n",
      "21     1.0\n",
      "93     1.0\n",
      "113    0.0\n",
      "98     1.0\n",
      "86     0.0\n",
      "35     0.0\n",
      "10     0.0\n",
      "124    0.0\n",
      "71     0.0\n",
      "105    0.0\n",
      "31     0.0\n",
      "16     1.0\n",
      "97     1.0\n",
      "1      0.0\n",
      "114    0.0\n",
      "83     1.0\n",
      "123    0.0\n",
      "129    0.0\n",
      "87     0.0\n",
      "9      1.0\n",
      "4      0.0\n",
      "38     0.0\n",
      "78     0.0\n",
      "73     0.0\n",
      "116    0.0\n",
      "      ... \n",
      "24     0.0\n",
      "56     0.0\n",
      "69     1.0\n",
      "63     0.0\n",
      "112    0.0\n",
      "60     0.0\n",
      "19     1.0\n",
      "6      0.0\n",
      "55     0.0\n",
      "75     0.0\n",
      "0      0.0\n",
      "44     0.0\n",
      "7      0.0\n",
      "48     0.0\n",
      "68     0.0\n",
      "102    0.0\n",
      "39     0.0\n",
      "8      0.0\n",
      "90     0.0\n",
      "42     0.0\n",
      "110    0.0\n",
      "89     0.0\n",
      "72     0.0\n",
      "23     0.0\n",
      "14     0.0\n",
      "57     0.0\n",
      "92     0.0\n",
      "103    1.0\n",
      "67     0.0\n",
      "25     0.0\n",
      "Name: C13, dtype: float64\n",
      "84     0.0\n",
      "117    0.0\n",
      "101    0.0\n",
      "28     0.0\n",
      "62     0.0\n",
      "85     0.0\n",
      "54     0.0\n",
      "100    0.0\n",
      "127    0.0\n",
      "111    0.0\n",
      "49     1.0\n",
      "120    0.0\n",
      "95     0.0\n",
      "36     1.0\n",
      "5      0.0\n",
      "130    0.0\n",
      "77     0.0\n",
      "74     0.0\n",
      "45     0.0\n",
      "121    0.0\n",
      "32     0.0\n",
      "51     0.0\n",
      "108    1.0\n",
      "22     1.0\n",
      "96     0.0\n",
      "106    0.0\n",
      "128    0.0\n",
      "80     0.0\n",
      "40     0.0\n",
      "94     0.0\n",
      "      ... \n",
      "70     0.0\n",
      "15     1.0\n",
      "20     1.0\n",
      "125    0.0\n",
      "99     0.0\n",
      "46     0.0\n",
      "104    0.0\n",
      "41     0.0\n",
      "43     0.0\n",
      "58     0.0\n",
      "12     0.0\n",
      "82     1.0\n",
      "47     1.0\n",
      "11     0.0\n",
      "3      0.0\n",
      "79     0.0\n",
      "18     1.0\n",
      "50     1.0\n",
      "65     0.0\n",
      "2      0.0\n",
      "81     0.0\n",
      "17     0.0\n",
      "29     0.0\n",
      "119    0.0\n",
      "37     0.0\n",
      "126    0.0\n",
      "30     0.0\n",
      "59     0.0\n",
      "33     0.0\n",
      "115    0.0\n",
      "Name: C13, dtype: float64\n"
     ]
    }
   ],
   "source": [
    "print(X_train)\n",
    "print(X_test)\n",
    "print(y_train)\n",
    "print(y_test)"
   ]
  },
  {
   "cell_type": "markdown",
   "metadata": {},
   "source": [
    "Обучаем классификатор для одного скрытого слоя из 100 нейронов."
   ]
  },
  {
   "cell_type": "code",
   "execution_count": 93,
   "metadata": {
    "collapsed": true
   },
   "outputs": [],
   "source": [
    "from sklearn.neural_network import MLPClassifier"
   ]
  },
  {
   "cell_type": "code",
   "execution_count": 94,
   "metadata": {
    "collapsed": false
   },
   "outputs": [
    {
     "data": {
      "text/plain": [
       "MLPClassifier(activation='logistic', alpha=0.0001, batch_size='auto',\n",
       "       beta_1=0.9, beta_2=0.999, early_stopping=False, epsilon=1e-08,\n",
       "       hidden_layer_sizes=(100,), learning_rate='constant',\n",
       "       learning_rate_init=0.001, max_iter=200, momentum=0.9,\n",
       "       nesterovs_momentum=True, power_t=0.5, random_state=42, shuffle=True,\n",
       "       solver='lbfgs', tol=0.0001, validation_fraction=0.1, verbose=False,\n",
       "       warm_start=False)"
      ]
     },
     "execution_count": 94,
     "metadata": {},
     "output_type": "execute_result"
    }
   ],
   "source": [
    "mlp_model = MLPClassifier(hidden_layer_sizes = (100, ), solver = 'lbfgs', \n",
    "                          activation = 'logistic', random_state = 42)\n",
    "mlp_model.fit(X_train, y_train)"
   ]
  },
  {
   "cell_type": "markdown",
   "metadata": {},
   "source": [
    "Предсказываем значение выходного признака на тестовой и обучающей выборках."
   ]
  },
  {
   "cell_type": "code",
   "execution_count": 95,
   "metadata": {
    "collapsed": false
   },
   "outputs": [],
   "source": [
    "y_train_pred = mlp_model.predict(X_train)\n",
    "y_test_pred = mlp_model.predict(X_test)"
   ]
  },
  {
   "cell_type": "markdown",
   "metadata": {},
   "source": [
    "Выводим ошибки на обучающей и тестовой выборках."
   ]
  },
  {
   "cell_type": "code",
   "execution_count": 96,
   "metadata": {
    "collapsed": false
   },
   "outputs": [
    {
     "name": "stdout",
     "output_type": "stream",
     "text": [
      "0.0 0.151515151515\n"
     ]
    }
   ],
   "source": [
    "print(np.mean(y_train != y_train_pred), np.mean(y_test != y_test_pred))"
   ]
  },
  {
   "cell_type": "markdown",
   "metadata": {},
   "source": [
    "Они составили 0% на обучающей, 15% на тестовой."
   ]
  },
  {
   "cell_type": "markdown",
   "metadata": {},
   "source": [
    "Подберем оптимальное значение параметра регуляризации alpha для однослойной НС со 100 нейронами."
   ]
  },
  {
   "cell_type": "code",
   "execution_count": 97,
   "metadata": {
    "collapsed": true
   },
   "outputs": [],
   "source": [
    "alpha_arr = np.logspace(-3, 2, 21)\n",
    "test_err = []\n",
    "train_err = []\n",
    "for alpha in alpha_arr:\n",
    "    mlp_model = MLPClassifier(alpha = alpha, hidden_layer_sizes = (100,), \n",
    "                              solver = 'lbfgs', activation = 'logistic', random_state = 42)\n",
    "    mlp_model.fit(X_train, y_train)\n",
    "\n",
    "    y_train_pred = mlp_model.predict(X_train)\n",
    "    y_test_pred = mlp_model.predict(X_test)\n",
    "    train_err.append(np.mean(y_train != y_train_pred))\n",
    "    test_err.append(np.mean(y_test != y_test_pred))"
   ]
  },
  {
   "cell_type": "code",
   "execution_count": 98,
   "metadata": {
    "collapsed": false
   },
   "outputs": [
    {
     "data": {
      "image/png": "[encoded data removed]",
      "text/plain": [
       "<matplotlib.figure.Figure at 0x2494a4d1f28>"
      ]
     },
     "metadata": {},
     "output_type": "display_data"
    }
   ],
   "source": [
    "plt.semilogx(alpha_arr, train_err, 'b-o', label = 'train')\n",
    "plt.semilogx(alpha_arr, test_err, 'r-o', label = 'test')\n",
    "plt.xlim([np.max(alpha_arr), np.min(alpha_arr)])\n",
    "plt.title('Error vs. alpha')\n",
    "plt.xlabel('alpha')\n",
    "plt.ylabel('error')\n",
    "plt.legend()\n",
    "pass"
   ]
  },
  {
   "cell_type": "code",
   "execution_count": 99,
   "metadata": {
    "collapsed": false
   },
   "outputs": [
    {
     "name": "stdout",
     "output_type": "stream",
     "text": [
      "0.0 0.0454545454545\n"
     ]
    }
   ],
   "source": [
    "min_train_err = np.min(train_err)\n",
    "min_test_err = np.min(test_err)\n",
    "print(min_train_err, min_test_err)"
   ]
  },
  {
   "cell_type": "code",
   "execution_count": 100,
   "metadata": {
    "collapsed": false
   },
   "outputs": [],
   "source": [
    "alpha_opt = alpha_arr[test_err == min_test_err]"
   ]
  },
  {
   "cell_type": "code",
   "execution_count": 101,
   "metadata": {
    "collapsed": true
   },
   "outputs": [],
   "source": [
    "alpha_opt = alpha_opt[0]"
   ]
  },
  {
   "cell_type": "code",
   "execution_count": 102,
   "metadata": {
    "collapsed": false
   },
   "outputs": [
    {
     "name": "stdout",
     "output_type": "stream",
     "text": [
      "0.316227766017\n"
     ]
    }
   ],
   "source": [
    "print( alpha_opt)"
   ]
  },
  {
   "cell_type": "markdown",
   "metadata": {},
   "source": [
    "Классификатор при найденном оптимальном значении alpha:"
   ]
  },
  {
   "cell_type": "code",
   "execution_count": 103,
   "metadata": {
    "collapsed": false
   },
   "outputs": [
    {
     "name": "stdout",
     "output_type": "stream",
     "text": [
      "0.0\n",
      "0.0454545454545\n"
     ]
    }
   ],
   "source": [
    "mlp_model = MLPClassifier(alpha = alpha_opt, hidden_layer_sizes = (100,),\n",
    "                          solver = 'lbfgs', activation = 'logistic', random_state = 42)\n",
    "mlp_model.fit(X_train, y_train)\n",
    "\n",
    "y_train_pred = mlp_model.predict(X_train)\n",
    "y_test_pred = mlp_model.predict(X_test)\n",
    "print(np.mean(y_train != y_train_pred))\n",
    "print(np.mean(y_test != y_test_pred))"
   ]
  },
  {
   "cell_type": "markdown",
   "metadata": {},
   "source": [
    "После подбора параметра alpha ошибка с 15% снизилась до 4.5%"
   ]
  },
  {
   "cell_type": "markdown",
   "metadata": {},
   "source": [
    "Посмотрим зависимость ошибки от количества нейронов."
   ]
  },
  {
   "cell_type": "code",
   "execution_count": 104,
   "metadata": {
    "collapsed": false
   },
   "outputs": [],
   "source": [
    "neur_arr = [2, 5, 10, 50, 100]\n",
    "test_err = []\n",
    "train_err = []\n",
    "for neur in neur_arr:\n",
    "    mlp_model = MLPClassifier(alpha = alpha_opt, hidden_layer_sizes = (neur, ), \n",
    "                              solver = 'lbfgs', activation = 'logistic', random_state = 42)\n",
    "    mlp_model.fit(X_train, y_train)\n",
    "\n",
    "    y_train_pred = mlp_model.predict(X_train)\n",
    "    y_test_pred = mlp_model.predict(X_test)\n",
    "    train_err.append(np.mean(y_train != y_train_pred))\n",
    "    test_err.append(np.mean(y_test != y_test_pred))"
   ]
  },
  {
   "cell_type": "code",
   "execution_count": 105,
   "metadata": {
    "collapsed": false
   },
   "outputs": [
    {
     "data": {
      "image/png": "[encoded data removed]",
      "text/plain": [
       "<matplotlib.figure.Figure at 0x24945262400>"
      ]
     },
     "metadata": {},
     "output_type": "display_data"
    }
   ],
   "source": [
    "plt.semilogx(neur_arr, train_err, 'b-o', label = 'train')\n",
    "plt.semilogx(neur_arr, test_err, 'r-o', label = 'test')\n",
    "plt.xlim([np.max(neur_arr), np.min(neur_arr)])\n",
    "plt.title('Error vs. neurons')\n",
    "plt.xlabel('neurons')\n",
    "plt.ylabel('error')\n",
    "plt.legend()\n",
    "pass"
   ]
  },
  {
   "cell_type": "code",
   "execution_count": 106,
   "metadata": {
    "collapsed": false
   },
   "outputs": [
    {
     "name": "stdout",
     "output_type": "stream",
     "text": [
      "0.0 0.0151515151515\n"
     ]
    }
   ],
   "source": [
    "min_train_err = np.min(train_err)\n",
    "min_test_err = np.min(test_err)\n",
    "print(min_train_err, min_test_err)"
   ]
  },
  {
   "cell_type": "markdown",
   "metadata": {},
   "source": [
    "Для оптимального alfa и оптимальном количестве нейронов ошибку удалось снизить с 4,5% до 1,5%. "
   ]
  },
  {
   "cell_type": "markdown",
   "metadata": {},
   "source": [
    "Матрица рассогласования:"
   ]
  },
  {
   "cell_type": "code",
   "execution_count": 107,
   "metadata": {
    "collapsed": false
   },
   "outputs": [
    {
     "name": "stdout",
     "output_type": "stream",
     "text": [
      "[[53  1]\n",
      " [ 2 10]]\n"
     ]
    }
   ],
   "source": [
    "from sklearn.metrics import confusion_matrix\n",
    "print(confusion_matrix(y_test_pred, y_test))"
   ]
  },
  {
   "cell_type": "code",
   "execution_count": 108,
   "metadata": {
    "collapsed": false
   },
   "outputs": [
    {
     "data": {
      "image/png": "[encoded data removed]",
      "text/plain": [
       "<matplotlib.figure.Figure at 0x2494a7b2978>"
      ]
     },
     "metadata": {},
     "output_type": "display_data"
    }
   ],
   "source": [
    "M = confusion_matrix(y_test_pred, y_test)\n",
    "M = np.sqrt(M)\n",
    "plt.imshow(M, interpolation = 'nearest')\n",
    "plt.set_cmap('binary')\n",
    "plt.xticks(range(2))\n",
    "plt.yticks(range(2))\n",
    "plt.xlabel(\"true label\")\n",
    "plt.ylabel(\"predicted label\")\n",
    "plt.colorbar()\n",
    "pass"
   ]
  },
  {
   "cell_type": "markdown",
   "metadata": {},
   "source": [
    "Другие метрики качества:"
   ]
  },
  {
   "cell_type": "code",
   "execution_count": 109,
   "metadata": {
    "collapsed": false
   },
   "outputs": [
    {
     "name": "stdout",
     "output_type": "stream",
     "text": [
      "             precision    recall  f1-score   support\n",
      "\n",
      "        0.0       0.98      0.96      0.97        55\n",
      "        1.0       0.83      0.91      0.87        11\n",
      "\n",
      "avg / total       0.96      0.95      0.96        66\n",
      "\n"
     ]
    }
   ],
   "source": [
    "from sklearn.metrics import classification_report\n",
    "print(classification_report(y_test, y_test_pred))"
   ]
  },
  {
   "cell_type": "markdown",
   "metadata": {
    "collapsed": true
   },
   "source": [
    "Теперь рассмотрим двухслойную НС по 100 нейронов."
   ]
  },
  {
   "cell_type": "code",
   "execution_count": 110,
   "metadata": {
    "collapsed": false
   },
   "outputs": [
    {
     "data": {
      "text/plain": [
       "MLPClassifier(activation='logistic', alpha=0.0001, batch_size='auto',\n",
       "       beta_1=0.9, beta_2=0.999, early_stopping=False, epsilon=1e-08,\n",
       "       hidden_layer_sizes=(100, 100), learning_rate='constant',\n",
       "       learning_rate_init=0.001, max_iter=200, momentum=0.9,\n",
       "       nesterovs_momentum=True, power_t=0.5, random_state=42, shuffle=True,\n",
       "       solver='lbfgs', tol=0.0001, validation_fraction=0.1, verbose=False,\n",
       "       warm_start=False)"
      ]
     },
     "execution_count": 110,
     "metadata": {},
     "output_type": "execute_result"
    }
   ],
   "source": [
    "mlp_model = MLPClassifier(hidden_layer_sizes = (100, 100), solver = 'lbfgs', \n",
    "                          activation = 'logistic', random_state = 42)\n",
    "mlp_model.fit(X_train, y_train)"
   ]
  },
  {
   "cell_type": "code",
   "execution_count": 111,
   "metadata": {
    "collapsed": true
   },
   "outputs": [],
   "source": [
    "y_train_pred = mlp_model.predict(X_train)\n",
    "y_test_pred = mlp_model.predict(X_test)"
   ]
  },
  {
   "cell_type": "code",
   "execution_count": 112,
   "metadata": {
    "collapsed": false
   },
   "outputs": [
    {
     "name": "stdout",
     "output_type": "stream",
     "text": [
      "0.0 0.136363636364\n"
     ]
    }
   ],
   "source": [
    "print(np.mean(y_train != y_train_pred), np.mean(y_test != y_test_pred))"
   ]
  },
  {
   "cell_type": "markdown",
   "metadata": {
    "collapsed": true
   },
   "source": [
    "Ошибка на обучающей выборке 0%, на тестовой 13,6%. (против ошибки однослойной НС 15%)"
   ]
  },
  {
   "cell_type": "code",
   "execution_count": 113,
   "metadata": {
    "collapsed": true
   },
   "outputs": [],
   "source": [
    "alpha_arr = np.logspace(-3, 2, 21)\n",
    "test_err = []\n",
    "train_err = []\n",
    "for alpha in alpha_arr:\n",
    "    mlp_model = MLPClassifier(alpha = alpha, hidden_layer_sizes = (100,100), \n",
    "                              solver = 'lbfgs', activation = 'logistic', random_state = 42)\n",
    "    mlp_model.fit(X_train, y_train)\n",
    "\n",
    "    y_train_pred = mlp_model.predict(X_train)\n",
    "    y_test_pred = mlp_model.predict(X_test)\n",
    "    train_err.append(np.mean(y_train != y_train_pred))\n",
    "    test_err.append(np.mean(y_test != y_test_pred))"
   ]
  },
  {
   "cell_type": "code",
   "execution_count": 114,
   "metadata": {
    "collapsed": false
   },
   "outputs": [
    {
     "data": {
      "image/png": "[encoded data removed]",
      "text/plain": [
       "<matplotlib.figure.Figure at 0x24948bf42e8>"
      ]
     },
     "metadata": {},
     "output_type": "display_data"
    }
   ],
   "source": [
    "plt.semilogx(alpha_arr, train_err, 'b-o', label = 'train')\n",
    "plt.semilogx(alpha_arr, test_err, 'r-o', label = 'test')\n",
    "plt.xlim([np.max(alpha_arr), np.min(alpha_arr)])\n",
    "plt.title('Error vs. alpha')\n",
    "plt.xlabel('alpha')\n",
    "plt.ylabel('error')\n",
    "plt.legend()\n",
    "pass"
   ]
  },
  {
   "cell_type": "code",
   "execution_count": 115,
   "metadata": {
    "collapsed": false
   },
   "outputs": [
    {
     "name": "stdout",
     "output_type": "stream",
     "text": [
      "0.0 0.0454545454545\n"
     ]
    }
   ],
   "source": [
    "min_train_err = np.min(train_err)\n",
    "min_test_err = np.min(test_err)\n",
    "print(min_train_err, min_test_err)"
   ]
  },
  {
   "cell_type": "code",
   "execution_count": 116,
   "metadata": {
    "collapsed": true
   },
   "outputs": [],
   "source": [
    "alpha_opt = alpha_arr[test_err == min_test_err]"
   ]
  },
  {
   "cell_type": "code",
   "execution_count": 117,
   "metadata": {
    "collapsed": true
   },
   "outputs": [],
   "source": [
    "alpha_opt = alpha_opt[0]"
   ]
  },
  {
   "cell_type": "code",
   "execution_count": 118,
   "metadata": {
    "collapsed": false
   },
   "outputs": [
    {
     "name": "stdout",
     "output_type": "stream",
     "text": [
      "0.316227766017\n"
     ]
    }
   ],
   "source": [
    "print( alpha_opt)"
   ]
  },
  {
   "cell_type": "markdown",
   "metadata": {},
   "source": [
    "При оптимальном альфа ошибка получилась такая же, как и для однослойной НС, т. е. использование двух слоев нецелесообразно."
   ]
  }
 ],
 "metadata": {
  "kernelspec": {
   "display_name": "Python 3",
   "language": "python",
   "name": "python3"
  },
  "language_info": {
   "codemirror_mode": {
    "name": "ipython",
    "version": 3
   },
   "file_extension": ".py",
   "mimetype": "text/x-python",
   "name": "python",
   "nbconvert_exporter": "python",
   "pygments_lexer": "ipython3",
   "version": "3.6.0"
  }
 },
 "nbformat": 4,
 "nbformat_minor": 2
}
